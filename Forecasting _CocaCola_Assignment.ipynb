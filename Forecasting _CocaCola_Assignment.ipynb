{
 "cells": [
  {
   "cell_type": "code",
   "execution_count": 29,
   "id": "b4ea0f4a",
   "metadata": {},
   "outputs": [],
   "source": [
    "import numpy as np\n",
    "import pandas as pd\n",
    "import matplotlib.pyplot as plt\n",
    "import seaborn as sns"
   ]
  },
  {
   "cell_type": "code",
   "execution_count": 30,
   "id": "d56f49af",
   "metadata": {},
   "outputs": [
    {
     "data": {
      "text/html": [
       "<div>\n",
       "<style scoped>\n",
       "    .dataframe tbody tr th:only-of-type {\n",
       "        vertical-align: middle;\n",
       "    }\n",
       "\n",
       "    .dataframe tbody tr th {\n",
       "        vertical-align: top;\n",
       "    }\n",
       "\n",
       "    .dataframe thead th {\n",
       "        text-align: right;\n",
       "    }\n",
       "</style>\n",
       "<table border=\"1\" class=\"dataframe\">\n",
       "  <thead>\n",
       "    <tr style=\"text-align: right;\">\n",
       "      <th></th>\n",
       "      <th>Quarter</th>\n",
       "      <th>Sales</th>\n",
       "    </tr>\n",
       "  </thead>\n",
       "  <tbody>\n",
       "    <tr>\n",
       "      <th>0</th>\n",
       "      <td>Q1_86</td>\n",
       "      <td>1734.827000</td>\n",
       "    </tr>\n",
       "    <tr>\n",
       "      <th>1</th>\n",
       "      <td>Q2_86</td>\n",
       "      <td>2244.960999</td>\n",
       "    </tr>\n",
       "    <tr>\n",
       "      <th>2</th>\n",
       "      <td>Q3_86</td>\n",
       "      <td>2533.804993</td>\n",
       "    </tr>\n",
       "    <tr>\n",
       "      <th>3</th>\n",
       "      <td>Q4_86</td>\n",
       "      <td>2154.962997</td>\n",
       "    </tr>\n",
       "    <tr>\n",
       "      <th>4</th>\n",
       "      <td>Q1_87</td>\n",
       "      <td>1547.818996</td>\n",
       "    </tr>\n",
       "  </tbody>\n",
       "</table>\n",
       "</div>"
      ],
      "text/plain": [
       "  Quarter        Sales\n",
       "0   Q1_86  1734.827000\n",
       "1   Q2_86  2244.960999\n",
       "2   Q3_86  2533.804993\n",
       "3   Q4_86  2154.962997\n",
       "4   Q1_87  1547.818996"
      ]
     },
     "execution_count": 30,
     "metadata": {},
     "output_type": "execute_result"
    }
   ],
   "source": [
    "cc=pd.read_csv(\"C:\\\\Users\\\\prasa\\\\Downloads\\\\CocaCola_Sales_Rawdata.csv\")\n",
    "cc.head()"
   ]
  },
  {
   "cell_type": "code",
   "execution_count": 31,
   "id": "64bb363d",
   "metadata": {},
   "outputs": [
    {
     "name": "stdout",
     "output_type": "stream",
     "text": [
      "<class 'pandas.core.frame.DataFrame'>\n",
      "RangeIndex: 42 entries, 0 to 41\n",
      "Data columns (total 2 columns):\n",
      " #   Column   Non-Null Count  Dtype  \n",
      "---  ------   --------------  -----  \n",
      " 0   Quarter  42 non-null     object \n",
      " 1   Sales    42 non-null     float64\n",
      "dtypes: float64(1), object(1)\n",
      "memory usage: 800.0+ bytes\n"
     ]
    }
   ],
   "source": [
    "cc.info()"
   ]
  },
  {
   "cell_type": "code",
   "execution_count": 32,
   "id": "8b38a4e3",
   "metadata": {},
   "outputs": [
    {
     "data": {
      "text/plain": [
       "<bound method NDFrame.describe of    Quarter        Sales\n",
       "0    Q1_86  1734.827000\n",
       "1    Q2_86  2244.960999\n",
       "2    Q3_86  2533.804993\n",
       "3    Q4_86  2154.962997\n",
       "4    Q1_87  1547.818996\n",
       "5    Q2_87  2104.411995\n",
       "6    Q3_87  2014.362999\n",
       "7    Q4_87  1991.746998\n",
       "8    Q1_88  1869.049999\n",
       "9    Q2_88  2313.631996\n",
       "10   Q3_88  2128.320000\n",
       "11   Q4_88  2026.828999\n",
       "12   Q1_89  1910.603996\n",
       "13   Q2_89  2331.164993\n",
       "14   Q3_89  2206.549995\n",
       "15   Q4_89  2173.967995\n",
       "16   Q1_90  2148.278000\n",
       "17   Q2_90  2739.307999\n",
       "18   Q3_90  2792.753998\n",
       "19   Q4_90  2556.009995\n",
       "20   Q1_91  2480.973999\n",
       "21   Q2_91  3039.522995\n",
       "22   Q3_91  3172.115997\n",
       "23   Q4_91  2879.000999\n",
       "24   Q1_92  2772.000000\n",
       "25   Q2_92  3550.000000\n",
       "26   Q3_92  3508.000000\n",
       "27   Q4_92  3243.859993\n",
       "28   Q1_93  3056.000000\n",
       "29   Q2_93  3899.000000\n",
       "30   Q3_93  3629.000000\n",
       "31   Q4_93  3373.000000\n",
       "32   Q1_94  3352.000000\n",
       "33   Q2_94  4342.000000\n",
       "34   Q3_94  4461.000000\n",
       "35   Q4_94  4017.000000\n",
       "36   Q1_95  3854.000000\n",
       "37   Q2_95  4936.000000\n",
       "38   Q3_95  4895.000000\n",
       "39   Q4_95  4333.000000\n",
       "40   Q1_96  4194.000000\n",
       "41   Q2_96  5253.000000>"
      ]
     },
     "execution_count": 32,
     "metadata": {},
     "output_type": "execute_result"
    }
   ],
   "source": [
    "cc.describe"
   ]
  },
  {
   "cell_type": "code",
   "execution_count": 33,
   "id": "32919de7",
   "metadata": {},
   "outputs": [
    {
     "data": {
      "text/plain": [
       "False"
      ]
     },
     "execution_count": 33,
     "metadata": {},
     "output_type": "execute_result"
    }
   ],
   "source": [
    "cc.duplicated().values.any()"
   ]
  },
  {
   "cell_type": "code",
   "execution_count": 34,
   "id": "b2321634",
   "metadata": {},
   "outputs": [
    {
     "data": {
      "text/plain": [
       "False"
      ]
     },
     "execution_count": 34,
     "metadata": {},
     "output_type": "execute_result"
    }
   ],
   "source": [
    "cc.isnull().values.any()"
   ]
  },
  {
   "cell_type": "code",
   "execution_count": 35,
   "id": "c33ea154",
   "metadata": {},
   "outputs": [
    {
     "data": {
      "text/plain": [
       "<AxesSubplot:>"
      ]
     },
     "execution_count": 35,
     "metadata": {},
     "output_type": "execute_result"
    },
    {
     "data": {
      "image/png": "[encoded data removed]",
      "text/plain": [
       "<Figure size 432x288 with 1 Axes>"
      ]
     },
     "metadata": {
      "needs_background": "light"
     },
     "output_type": "display_data"
    }
   ],
   "source": [
    "cc.Sales.plot()"
   ]
  },
  {
   "cell_type": "code",
   "execution_count": 36,
   "id": "b4f1c393",
   "metadata": {},
   "outputs": [
    {
     "name": "stderr",
     "output_type": "stream",
     "text": [
      "C:\\Users\\prasa\\anaconda3\\lib\\site-packages\\seaborn\\distributions.py:2557: FutureWarning: `distplot` is a deprecated function and will be removed in a future version. Please adapt your code to use either `displot` (a figure-level function with similar flexibility) or `histplot` (an axes-level function for histograms).\n",
      "  warnings.warn(msg, FutureWarning)\n"
     ]
    },
    {
     "data": {
      "text/plain": [
       "<AxesSubplot:xlabel='Sales', ylabel='Density'>"
      ]
     },
     "execution_count": 36,
     "metadata": {},
     "output_type": "execute_result"
    },
    {
     "data": {
      "image/png": "[encoded data removed]",
      "text/plain": [
       "<Figure size 432x288 with 1 Axes>"
      ]
     },
     "metadata": {
      "needs_background": "light"
     },
     "output_type": "display_data"
    }
   ],
   "source": [
    "sns.distplot(cc['Sales'], bins=5)"
   ]
  },
  {
   "cell_type": "code",
   "execution_count": 37,
   "id": "c3bfb143",
   "metadata": {},
   "outputs": [],
   "source": [
    "quart = ['Q1', 'Q2', 'Q3', 'Q4']\n",
    "n= cc['Quarter'][0]\n",
    "n[0:2]\n",
    "cc['quart']=0"
   ]
  },
  {
   "cell_type": "code",
   "execution_count": 38,
   "id": "54305f10",
   "metadata": {},
   "outputs": [
    {
     "name": "stderr",
     "output_type": "stream",
     "text": [
      "<ipython-input-38-5479593c76da>:3: SettingWithCopyWarning: \n",
      "A value is trying to be set on a copy of a slice from a DataFrame\n",
      "\n",
      "See the caveats in the documentation: https://pandas.pydata.org/pandas-docs/stable/user_guide/indexing.html#returning-a-view-versus-a-copy\n",
      "  cc['quart'][i]=n[0:2]\n",
      "C:\\Users\\prasa\\anaconda3\\lib\\site-packages\\pandas\\core\\indexing.py:1637: SettingWithCopyWarning: \n",
      "A value is trying to be set on a copy of a slice from a DataFrame\n",
      "\n",
      "See the caveats in the documentation: https://pandas.pydata.org/pandas-docs/stable/user_guide/indexing.html#returning-a-view-versus-a-copy\n",
      "  self._setitem_single_block(indexer, value, name)\n"
     ]
    }
   ],
   "source": [
    "for i in range(len(cc)):\n",
    "    n=cc['Quarter'][i]\n",
    "    cc['quart'][i]=n[0:2]"
   ]
  },
  {
   "cell_type": "code",
   "execution_count": 39,
   "id": "b2858ca7",
   "metadata": {},
   "outputs": [
    {
     "data": {
      "text/html": [
       "<div>\n",
       "<style scoped>\n",
       "    .dataframe tbody tr th:only-of-type {\n",
       "        vertical-align: middle;\n",
       "    }\n",
       "\n",
       "    .dataframe tbody tr th {\n",
       "        vertical-align: top;\n",
       "    }\n",
       "\n",
       "    .dataframe thead th {\n",
       "        text-align: right;\n",
       "    }\n",
       "</style>\n",
       "<table border=\"1\" class=\"dataframe\">\n",
       "  <thead>\n",
       "    <tr style=\"text-align: right;\">\n",
       "      <th></th>\n",
       "      <th>Q1</th>\n",
       "      <th>Q2</th>\n",
       "      <th>Q3</th>\n",
       "      <th>Q4</th>\n",
       "    </tr>\n",
       "  </thead>\n",
       "  <tbody>\n",
       "    <tr>\n",
       "      <th>0</th>\n",
       "      <td>1</td>\n",
       "      <td>0</td>\n",
       "      <td>0</td>\n",
       "      <td>0</td>\n",
       "    </tr>\n",
       "    <tr>\n",
       "      <th>1</th>\n",
       "      <td>0</td>\n",
       "      <td>1</td>\n",
       "      <td>0</td>\n",
       "      <td>0</td>\n",
       "    </tr>\n",
       "    <tr>\n",
       "      <th>2</th>\n",
       "      <td>0</td>\n",
       "      <td>0</td>\n",
       "      <td>1</td>\n",
       "      <td>0</td>\n",
       "    </tr>\n",
       "    <tr>\n",
       "      <th>3</th>\n",
       "      <td>0</td>\n",
       "      <td>0</td>\n",
       "      <td>0</td>\n",
       "      <td>1</td>\n",
       "    </tr>\n",
       "    <tr>\n",
       "      <th>4</th>\n",
       "      <td>1</td>\n",
       "      <td>0</td>\n",
       "      <td>0</td>\n",
       "      <td>0</td>\n",
       "    </tr>\n",
       "  </tbody>\n",
       "</table>\n",
       "</div>"
      ],
      "text/plain": [
       "   Q1  Q2  Q3  Q4\n",
       "0   1   0   0   0\n",
       "1   0   1   0   0\n",
       "2   0   0   1   0\n",
       "3   0   0   0   1\n",
       "4   1   0   0   0"
      ]
     },
     "execution_count": 39,
     "metadata": {},
     "output_type": "execute_result"
    }
   ],
   "source": [
    "dummy = pd.DataFrame(pd.get_dummies(cc['quart']))\n",
    "dummy.head()"
   ]
  },
  {
   "cell_type": "code",
   "execution_count": 40,
   "id": "64f776ce",
   "metadata": {},
   "outputs": [
    {
     "data": {
      "text/html": [
       "<div>\n",
       "<style scoped>\n",
       "    .dataframe tbody tr th:only-of-type {\n",
       "        vertical-align: middle;\n",
       "    }\n",
       "\n",
       "    .dataframe tbody tr th {\n",
       "        vertical-align: top;\n",
       "    }\n",
       "\n",
       "    .dataframe thead th {\n",
       "        text-align: right;\n",
       "    }\n",
       "</style>\n",
       "<table border=\"1\" class=\"dataframe\">\n",
       "  <thead>\n",
       "    <tr style=\"text-align: right;\">\n",
       "      <th></th>\n",
       "      <th>Quarter</th>\n",
       "      <th>Sales</th>\n",
       "      <th>quart</th>\n",
       "      <th>Q1</th>\n",
       "      <th>Q2</th>\n",
       "      <th>Q3</th>\n",
       "      <th>Q4</th>\n",
       "    </tr>\n",
       "  </thead>\n",
       "  <tbody>\n",
       "    <tr>\n",
       "      <th>0</th>\n",
       "      <td>Q1_86</td>\n",
       "      <td>1734.827000</td>\n",
       "      <td>Q1</td>\n",
       "      <td>1</td>\n",
       "      <td>0</td>\n",
       "      <td>0</td>\n",
       "      <td>0</td>\n",
       "    </tr>\n",
       "    <tr>\n",
       "      <th>1</th>\n",
       "      <td>Q2_86</td>\n",
       "      <td>2244.960999</td>\n",
       "      <td>Q2</td>\n",
       "      <td>0</td>\n",
       "      <td>1</td>\n",
       "      <td>0</td>\n",
       "      <td>0</td>\n",
       "    </tr>\n",
       "    <tr>\n",
       "      <th>2</th>\n",
       "      <td>Q3_86</td>\n",
       "      <td>2533.804993</td>\n",
       "      <td>Q3</td>\n",
       "      <td>0</td>\n",
       "      <td>0</td>\n",
       "      <td>1</td>\n",
       "      <td>0</td>\n",
       "    </tr>\n",
       "    <tr>\n",
       "      <th>3</th>\n",
       "      <td>Q4_86</td>\n",
       "      <td>2154.962997</td>\n",
       "      <td>Q4</td>\n",
       "      <td>0</td>\n",
       "      <td>0</td>\n",
       "      <td>0</td>\n",
       "      <td>1</td>\n",
       "    </tr>\n",
       "    <tr>\n",
       "      <th>4</th>\n",
       "      <td>Q1_87</td>\n",
       "      <td>1547.818996</td>\n",
       "      <td>Q1</td>\n",
       "      <td>1</td>\n",
       "      <td>0</td>\n",
       "      <td>0</td>\n",
       "      <td>0</td>\n",
       "    </tr>\n",
       "  </tbody>\n",
       "</table>\n",
       "</div>"
      ],
      "text/plain": [
       "  Quarter        Sales quart  Q1  Q2  Q3  Q4\n",
       "0   Q1_86  1734.827000    Q1   1   0   0   0\n",
       "1   Q2_86  2244.960999    Q2   0   1   0   0\n",
       "2   Q3_86  2533.804993    Q3   0   0   1   0\n",
       "3   Q4_86  2154.962997    Q4   0   0   0   1\n",
       "4   Q1_87  1547.818996    Q1   1   0   0   0"
      ]
     },
     "execution_count": 40,
     "metadata": {},
     "output_type": "execute_result"
    }
   ],
   "source": [
    "cc1= pd.concat((cc, dummy), axis=1)\n",
    "cc1.head()"
   ]
  },
  {
   "cell_type": "code",
   "execution_count": 41,
   "id": "fbb4b8d7",
   "metadata": {},
   "outputs": [],
   "source": [
    "t = np.arange(1,43)"
   ]
  },
  {
   "cell_type": "code",
   "execution_count": 42,
   "id": "d39862dc",
   "metadata": {},
   "outputs": [],
   "source": [
    "cc1['t']=t\n",
    "cc1['t_square']=cc1['t']*cc1['t']\n",
    "log_Sales = np.log(cc1['Sales'])\n",
    "cc1['log_Sales']=log_Sales"
   ]
  },
  {
   "cell_type": "code",
   "execution_count": 43,
   "id": "b099a463",
   "metadata": {},
   "outputs": [
    {
     "data": {
      "text/html": [
       "<div>\n",
       "<style scoped>\n",
       "    .dataframe tbody tr th:only-of-type {\n",
       "        vertical-align: middle;\n",
       "    }\n",
       "\n",
       "    .dataframe tbody tr th {\n",
       "        vertical-align: top;\n",
       "    }\n",
       "\n",
       "    .dataframe thead th {\n",
       "        text-align: right;\n",
       "    }\n",
       "</style>\n",
       "<table border=\"1\" class=\"dataframe\">\n",
       "  <thead>\n",
       "    <tr style=\"text-align: right;\">\n",
       "      <th></th>\n",
       "      <th>Quarter</th>\n",
       "      <th>Sales</th>\n",
       "      <th>quart</th>\n",
       "      <th>Q1</th>\n",
       "      <th>Q2</th>\n",
       "      <th>Q3</th>\n",
       "      <th>Q4</th>\n",
       "      <th>t</th>\n",
       "      <th>t_square</th>\n",
       "      <th>log_Sales</th>\n",
       "    </tr>\n",
       "  </thead>\n",
       "  <tbody>\n",
       "    <tr>\n",
       "      <th>0</th>\n",
       "      <td>Q1_86</td>\n",
       "      <td>1734.827000</td>\n",
       "      <td>Q1</td>\n",
       "      <td>1</td>\n",
       "      <td>0</td>\n",
       "      <td>0</td>\n",
       "      <td>0</td>\n",
       "      <td>1</td>\n",
       "      <td>1</td>\n",
       "      <td>7.458663</td>\n",
       "    </tr>\n",
       "    <tr>\n",
       "      <th>1</th>\n",
       "      <td>Q2_86</td>\n",
       "      <td>2244.960999</td>\n",
       "      <td>Q2</td>\n",
       "      <td>0</td>\n",
       "      <td>1</td>\n",
       "      <td>0</td>\n",
       "      <td>0</td>\n",
       "      <td>2</td>\n",
       "      <td>4</td>\n",
       "      <td>7.716443</td>\n",
       "    </tr>\n",
       "    <tr>\n",
       "      <th>2</th>\n",
       "      <td>Q3_86</td>\n",
       "      <td>2533.804993</td>\n",
       "      <td>Q3</td>\n",
       "      <td>0</td>\n",
       "      <td>0</td>\n",
       "      <td>1</td>\n",
       "      <td>0</td>\n",
       "      <td>3</td>\n",
       "      <td>9</td>\n",
       "      <td>7.837477</td>\n",
       "    </tr>\n",
       "    <tr>\n",
       "      <th>3</th>\n",
       "      <td>Q4_86</td>\n",
       "      <td>2154.962997</td>\n",
       "      <td>Q4</td>\n",
       "      <td>0</td>\n",
       "      <td>0</td>\n",
       "      <td>0</td>\n",
       "      <td>1</td>\n",
       "      <td>4</td>\n",
       "      <td>16</td>\n",
       "      <td>7.675529</td>\n",
       "    </tr>\n",
       "    <tr>\n",
       "      <th>4</th>\n",
       "      <td>Q1_87</td>\n",
       "      <td>1547.818996</td>\n",
       "      <td>Q1</td>\n",
       "      <td>1</td>\n",
       "      <td>0</td>\n",
       "      <td>0</td>\n",
       "      <td>0</td>\n",
       "      <td>5</td>\n",
       "      <td>25</td>\n",
       "      <td>7.344602</td>\n",
       "    </tr>\n",
       "  </tbody>\n",
       "</table>\n",
       "</div>"
      ],
      "text/plain": [
       "  Quarter        Sales quart  Q1  Q2  Q3  Q4  t  t_square  log_Sales\n",
       "0   Q1_86  1734.827000    Q1   1   0   0   0  1         1   7.458663\n",
       "1   Q2_86  2244.960999    Q2   0   1   0   0  2         4   7.716443\n",
       "2   Q3_86  2533.804993    Q3   0   0   1   0  3         9   7.837477\n",
       "3   Q4_86  2154.962997    Q4   0   0   0   1  4        16   7.675529\n",
       "4   Q1_87  1547.818996    Q1   1   0   0   0  5        25   7.344602"
      ]
     },
     "execution_count": 43,
     "metadata": {},
     "output_type": "execute_result"
    }
   ],
   "source": [
    "cc1.head()"
   ]
  },
  {
   "cell_type": "code",
   "execution_count": 44,
   "id": "96b91c77",
   "metadata": {},
   "outputs": [],
   "source": [
    "train=cc1.head(30)\n",
    "test=cc1.tail(12)"
   ]
  },
  {
   "cell_type": "markdown",
   "id": "fdfbeee1",
   "metadata": {},
   "source": [
    "#### Linear Model"
   ]
  },
  {
   "cell_type": "code",
   "execution_count": 45,
   "id": "201d35ac",
   "metadata": {},
   "outputs": [
    {
     "data": {
      "text/plain": [
       "714.014448381833"
      ]
     },
     "execution_count": 45,
     "metadata": {},
     "output_type": "execute_result"
    }
   ],
   "source": [
    "import statsmodels.formula.api as smf\n",
    "linear_model = smf.ols(\"Sales~t\", data= train).fit()\n",
    "pred_linear = pd.Series(linear_model.predict(pd.DataFrame(test['t'])))\n",
    "rmse_linear = np.sqrt(np.mean((np.array(test['Sales']) - np.array(pred_linear))**2))\n",
    "rmse_linear"
   ]
  },
  {
   "cell_type": "markdown",
   "id": "6d064725",
   "metadata": {},
   "source": [
    "#### Quadratic Model"
   ]
  },
  {
   "cell_type": "code",
   "execution_count": 46,
   "id": "de91896e",
   "metadata": {},
   "outputs": [
    {
     "data": {
      "text/plain": [
       "646.2715428656084"
      ]
     },
     "execution_count": 46,
     "metadata": {},
     "output_type": "execute_result"
    }
   ],
   "source": [
    "quad = smf.ols('Sales~t+t_square', data= train).fit()\n",
    "pred_quad = pd.Series(quad.predict(pd.DataFrame(test[['t','t_square']])))\n",
    "rmse_quad = np.sqrt(np.mean((np.array(test['Sales'])-np.array(pred_quad))**2))\n",
    "rmse_quad"
   ]
  },
  {
   "cell_type": "markdown",
   "id": "32ab589a",
   "metadata": {},
   "source": [
    "#### Exponential Model"
   ]
  },
  {
   "cell_type": "code",
   "execution_count": 47,
   "id": "8efc5c9d",
   "metadata": {},
   "outputs": [
    {
     "data": {
      "text/plain": [
       "552.2821039688199"
      ]
     },
     "execution_count": 47,
     "metadata": {},
     "output_type": "execute_result"
    }
   ],
   "source": [
    "exp = smf.ols('log_Sales~t', data = train).fit()\n",
    "pred_exp = pd.Series(exp.predict(pd.DataFrame(test['t'])))\n",
    "rmse_exp = np.sqrt(np.mean((np.array(test['Sales'])-np.array(np.exp(pred_exp)))**2))\n",
    "rmse_exp"
   ]
  },
  {
   "cell_type": "markdown",
   "id": "aab682e9",
   "metadata": {},
   "source": [
    "#### Additive seasonality"
   ]
  },
  {
   "cell_type": "code",
   "execution_count": 48,
   "id": "6b4204f7",
   "metadata": {},
   "outputs": [
    {
     "data": {
      "text/plain": [
       "1778.0065467723998"
      ]
     },
     "execution_count": 48,
     "metadata": {},
     "output_type": "execute_result"
    }
   ],
   "source": [
    "add_sea = smf.ols('Sales~Q1+Q2+Q3+Q4', data = train).fit()\n",
    "pred_add_sea = pd.Series(add_sea.predict(test[['Q1','Q2','Q3','Q4']]))\n",
    "rmse_add_sea =  np.sqrt(np.mean((np.array(test['Sales']) - np.array(pred_add_sea))**2))\n",
    "rmse_add_sea"
   ]
  },
  {
   "cell_type": "markdown",
   "id": "032c88a1",
   "metadata": {},
   "source": [
    "#### Additive Seasonality Quadratic "
   ]
  },
  {
   "cell_type": "code",
   "execution_count": 49,
   "id": "7794d4df",
   "metadata": {},
   "outputs": [
    {
     "data": {
      "text/plain": [
       "586.0533068427447"
      ]
     },
     "execution_count": 49,
     "metadata": {},
     "output_type": "execute_result"
    }
   ],
   "source": [
    "add_sea_Quad = smf.ols('Sales~t+t_square+Q1+Q2+Q3+Q4', data = train).fit()\n",
    "pred_add_sea_quad = pd.Series(add_sea_Quad.predict(test[['Q1','Q2','Q3','Q4','t','t_square']]))\n",
    "rmse_add_sea_quad = np.sqrt(np.mean((np.array(test['Sales'])-np.array(pred_add_sea_quad))**2))\n",
    "rmse_add_sea_quad"
   ]
  },
  {
   "cell_type": "markdown",
   "id": "ae48f1b3",
   "metadata": {},
   "source": [
    "#### Multiplicative seasonality"
   ]
  },
  {
   "cell_type": "code",
   "execution_count": 50,
   "id": "1cbd9b27",
   "metadata": {},
   "outputs": [
    {
     "data": {
      "text/plain": [
       "1828.9238911891832"
      ]
     },
     "execution_count": 50,
     "metadata": {},
     "output_type": "execute_result"
    }
   ],
   "source": [
    "Mul_sea = smf.ols('log_Sales~Q1+Q2+Q3+Q4',data = train).fit()\n",
    "pred_Mult_sea = pd.Series(Mul_sea.predict(test))\n",
    "rmse_Mult_sea = np.sqrt(np.mean((np.array(test['Sales'])-np.array(np.exp(pred_Mult_sea)))**2))\n",
    "rmse_Mult_sea"
   ]
  },
  {
   "cell_type": "markdown",
   "id": "01d6f8ea",
   "metadata": {},
   "source": [
    "#### Multiplicative additive seasonality"
   ]
  },
  {
   "cell_type": "code",
   "execution_count": 51,
   "id": "34e682c4",
   "metadata": {},
   "outputs": [
    {
     "data": {
      "text/plain": [
       "410.2497060538331"
      ]
     },
     "execution_count": 51,
     "metadata": {},
     "output_type": "execute_result"
    }
   ],
   "source": [
    "Mul_Add_sea = smf.ols('log_Sales~t+Q1+Q2+Q3+Q4', data = train).fit()\n",
    "pred_Mult_add_sea = pd.Series(Mul_Add_sea.predict(test))\n",
    "rmse_Mult_add_sea = np.sqrt(np.mean((np.array(test['Sales'])-np.array(np.exp(pred_Mult_add_sea)))**2))\n",
    "rmse_Mult_add_sea"
   ]
  },
  {
   "cell_type": "code",
   "execution_count": 52,
   "id": "1c056273",
   "metadata": {},
   "outputs": [
    {
     "data": {
      "text/html": [
       "<div>\n",
       "<style scoped>\n",
       "    .dataframe tbody tr th:only-of-type {\n",
       "        vertical-align: middle;\n",
       "    }\n",
       "\n",
       "    .dataframe tbody tr th {\n",
       "        vertical-align: top;\n",
       "    }\n",
       "\n",
       "    .dataframe thead th {\n",
       "        text-align: right;\n",
       "    }\n",
       "</style>\n",
       "<table border=\"1\" class=\"dataframe\">\n",
       "  <thead>\n",
       "    <tr style=\"text-align: right;\">\n",
       "      <th></th>\n",
       "      <th>Model</th>\n",
       "      <th>RMSE_Values</th>\n",
       "    </tr>\n",
       "  </thead>\n",
       "  <tbody>\n",
       "    <tr>\n",
       "      <th>0</th>\n",
       "      <td>rmse_linear</td>\n",
       "      <td>714.014448</td>\n",
       "    </tr>\n",
       "    <tr>\n",
       "      <th>1</th>\n",
       "      <td>rmse_exp</td>\n",
       "      <td>552.282104</td>\n",
       "    </tr>\n",
       "    <tr>\n",
       "      <th>2</th>\n",
       "      <td>rmse_quad</td>\n",
       "      <td>646.271543</td>\n",
       "    </tr>\n",
       "    <tr>\n",
       "      <th>3</th>\n",
       "      <td>rmse_add_sea</td>\n",
       "      <td>1778.006547</td>\n",
       "    </tr>\n",
       "    <tr>\n",
       "      <th>4</th>\n",
       "      <td>rmse_add_sea_quad</td>\n",
       "      <td>586.053307</td>\n",
       "    </tr>\n",
       "    <tr>\n",
       "      <th>5</th>\n",
       "      <td>rmse_Mult_sea</td>\n",
       "      <td>1828.923891</td>\n",
       "    </tr>\n",
       "    <tr>\n",
       "      <th>6</th>\n",
       "      <td>rmse_Mult_add_sea</td>\n",
       "      <td>410.249706</td>\n",
       "    </tr>\n",
       "  </tbody>\n",
       "</table>\n",
       "</div>"
      ],
      "text/plain": [
       "               Model  RMSE_Values\n",
       "0        rmse_linear   714.014448\n",
       "1           rmse_exp   552.282104\n",
       "2          rmse_quad   646.271543\n",
       "3       rmse_add_sea  1778.006547\n",
       "4  rmse_add_sea_quad   586.053307\n",
       "5      rmse_Mult_sea  1828.923891\n",
       "6  rmse_Mult_add_sea   410.249706"
      ]
     },
     "execution_count": 52,
     "metadata": {},
     "output_type": "execute_result"
    }
   ],
   "source": [
    "# Compare the Results\n",
    "models = {'Model': pd.Series([\"rmse_linear\",\"rmse_exp\",\"rmse_quad\",\"rmse_add_sea\",\"rmse_add_sea_quad\",\"rmse_Mult_sea\",\"rmse_Mult_add_sea\"]), 'RMSE_Values': pd.Series([rmse_linear,rmse_exp,rmse_quad,rmse_add_sea,rmse_add_sea_quad,rmse_Mult_sea,rmse_Mult_add_sea])}\n",
    "table_rmse = pd.DataFrame(models)\n",
    "table_rmse"
   ]
  },
  {
   "cell_type": "markdown",
   "id": "8a336e3f",
   "metadata": {},
   "source": [
    "### Model with low RMSE is best always. Here Multiplicative additive seasonality has low RMSE, so it is the best model. "
   ]
  }
 ],
 "metadata": {
  "kernelspec": {
   "display_name": "Python 3",
   "language": "python",
   "name": "python3"
  },
  "language_info": {
   "codemirror_mode": {
    "name": "ipython",
    "version": 3
   },
   "file_extension": ".py",
   "mimetype": "text/x-python",
   "name": "python",
   "nbconvert_exporter": "python",
   "pygments_lexer": "ipython3",
   "version": "3.8.8"
  }
 },
 "nbformat": 4,
 "nbformat_minor": 5
}
